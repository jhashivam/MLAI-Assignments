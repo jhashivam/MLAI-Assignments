{
  "nbformat": 4,
  "nbformat_minor": 0,
  "metadata": {
    "colab": {
      "provenance": []
    },
    "kernelspec": {
      "name": "python3",
      "display_name": "Python 3"
    },
    "language_info": {
      "name": "python"
    }
  },
  "cells": [
    {
      "cell_type": "markdown",
      "source": [
        "**TOPIC: PythonBasicsVariable**"
      ],
      "metadata": {
        "id": "Qc5vu16V6sZ6"
      }
    },
    {
      "cell_type": "markdown",
      "source": [
        "### 1. Declare two variables, `x` and `y`, and assign them integer values. Swap the values of these variables without using any temporary variable.\n",
        "\n",
        "Ans -\n",
        "\n",
        "```\n",
        "Step 1 -> I will take two variables x and y\n",
        "x = 2\n",
        "y = 3\n",
        "\n",
        "Step 2 -> Take the sum of variable x and y and store it in x\n",
        "x = x + y\n",
        "\n",
        "Step 3 -> Substract y from new value of x as y = x - y and x = x - y\n",
        "y = x - y\n",
        "x = x - y\n",
        "x, y\n",
        "```\n",
        "\n"
      ],
      "metadata": {
        "id": "khfMq3nA8Q0b"
      }
    },
    {
      "cell_type": "code",
      "source": [
        "x = 2\n",
        "y = 3\n",
        "\n",
        "x = x + y\n",
        "y = x - y\n",
        "x = x - y\n",
        "print(f'The value of x is: {x}')\n",
        "print(f'The value of y is: {y}')"
      ],
      "metadata": {
        "colab": {
          "base_uri": "https://localhost:8080/"
        },
        "id": "WoC_uL_Ze-zA",
        "outputId": "8ce795ca-1cba-4b5b-e0ba-7ec434c623e8"
      },
      "execution_count": 23,
      "outputs": [
        {
          "output_type": "stream",
          "name": "stdout",
          "text": [
            "The value of x is: 3\n",
            "The value of y is: 2\n"
          ]
        }
      ]
    },
    {
      "cell_type": "markdown",
      "source": [
        "### 2. Create a program that calculates the area of a rectangle. Take the length and width as inputs from the user and store them in variables. Calculate and display the area.\n",
        "\n",
        "Ans -\n",
        "\n",
        "```\n",
        "Step 1 -> Take the length and width as input from user using input function and store in varible  \n",
        "lenght = int(input(\"Length of rectange is\"))\n",
        "width = int(input(\"Width of rectangle is\"))\n",
        "\n",
        "Step 2 -> Calulate the area of rectange As per formula of Area of a rectangle = length * width\n",
        "rectangle_area = (lenght * width)\n",
        "\n",
        "Step 3 -> Display the area\n",
        "print(f'Area of rectangle is : {rectangle_area}')\n",
        "```"
      ],
      "metadata": {
        "id": "4ZY6hAjSAOtt"
      }
    },
    {
      "cell_type": "code",
      "source": [
        "lenght = int(input(\"Length of rectange is\"))\n",
        "width = int(input(\"Width of rectangle is\"))\n",
        "rectangle_area = (lenght * width)\n",
        "print(f'Area of rectangle is : {rectangle_area}')"
      ],
      "metadata": {
        "colab": {
          "base_uri": "https://localhost:8080/"
        },
        "id": "7XoUTgxhIjJU",
        "outputId": "49382e96-a601-4706-db1c-6533ecd8e494"
      },
      "execution_count": 24,
      "outputs": [
        {
          "output_type": "stream",
          "name": "stdout",
          "text": [
            "Length of rectange is5\n",
            "Width of rectangle is4\n",
            "Area of rectangle is : 20\n"
          ]
        }
      ]
    },
    {
      "cell_type": "markdown",
      "source": [
        "### 3. Write a Python program that converts temperatures from Celsius to Fahrenheit. Take the temperature in Celsius as input, store it in a variable, convert it to Fahrenheit, and display the result.\n",
        "\n",
        "Ans -\n",
        "\n",
        "```\n",
        "Step 1 -> Take the temperature in Celsius as input and store it in a variable\n",
        "celsius = int(input(\"Temperature in celsius\"))\n",
        "\n",
        "Step 2 -> Convert it to Fahrenheit using formula\n",
        "Fahrenheit = (9/5)*celsius + 32\n",
        "\n",
        "Step 3 -> Display the result\n",
        "print(f' Temperature in Fahrenheit is : {Fahrenheit}')\n",
        "```"
      ],
      "metadata": {
        "id": "dIt6166QL0VG"
      }
    },
    {
      "cell_type": "code",
      "source": [
        "celsius = int(input(\"Temperature in celsius\"))\n",
        "Fahrenheit = (9/5)*celsius + 32\n",
        "print(f'Temperature in Fahrenheit is : {Fahrenheit}')"
      ],
      "metadata": {
        "colab": {
          "base_uri": "https://localhost:8080/"
        },
        "id": "FjeKzjS2M4YL",
        "outputId": "3b724ce2-de00-4a69-dc77-8c95d4b5d201"
      },
      "execution_count": 27,
      "outputs": [
        {
          "output_type": "stream",
          "name": "stdout",
          "text": [
            "Temperature in celsius12\n",
            "Temperature in Fahrenheit is : 53.6\n"
          ]
        }
      ]
    },
    {
      "cell_type": "markdown",
      "source": [
        "\n",
        "\n",
        "\n",
        "**TOPIC: StringBasedQuestions**"
      ],
      "metadata": {
        "id": "3yqqgL-eNZxl"
      }
    },
    {
      "cell_type": "markdown",
      "source": [
        "### 1. Write a Python program that takes a string as input and prints the length of the string."
      ],
      "metadata": {
        "id": "FftXdogFjrYB"
      }
    },
    {
      "cell_type": "code",
      "source": [
        "# Answer\n",
        "\n",
        "inp_string_1 = str(input())\n",
        "print(len(inp_string_1))"
      ],
      "metadata": {
        "colab": {
          "base_uri": "https://localhost:8080/"
        },
        "id": "S9lvTVYHNhym",
        "outputId": "9beb5253-19fb-4b6a-eb35-402648329f92"
      },
      "execution_count": 31,
      "outputs": [
        {
          "output_type": "stream",
          "name": "stdout",
          "text": [
            "Python program find the length of string\n",
            "40\n"
          ]
        }
      ]
    },
    {
      "cell_type": "code",
      "source": [],
      "metadata": {
        "id": "1uB815hnNh1u"
      },
      "execution_count": null,
      "outputs": []
    },
    {
      "cell_type": "markdown",
      "source": [
        "### 2. Create a program that takes a sentence from the user and counts the number of vowels (a, e, i, o, u) in the string."
      ],
      "metadata": {
        "id": "nbFctocLkmVT"
      }
    },
    {
      "cell_type": "code",
      "source": [
        "inp_string_2 = str(input())\n",
        "vowels = \"aeiouAEIOU\"\n",
        "\n",
        "count = sum(inp_string_2.count(vowel) for vowel in vowels)\n",
        "print(count)\n"
      ],
      "metadata": {
        "colab": {
          "base_uri": "https://localhost:8080/"
        },
        "id": "7tXgi04FNh4n",
        "outputId": "05a0286c-938b-462d-90b2-52fb36a73b96"
      },
      "execution_count": 32,
      "outputs": [
        {
          "output_type": "stream",
          "name": "stdout",
          "text": [
            "counts the number of vowels\n",
            "8\n"
          ]
        }
      ]
    },
    {
      "cell_type": "markdown",
      "source": [
        "### 3. Given a string, reverse the order of characters using string slicing and print the reversed string."
      ],
      "metadata": {
        "id": "Dig-GvHmks5w"
      }
    },
    {
      "cell_type": "code",
      "source": [
        "txt = \"Hello World\"[::-1]\n",
        "print(txt)"
      ],
      "metadata": {
        "colab": {
          "base_uri": "https://localhost:8080/"
        },
        "id": "TKpvwBHrNh7a",
        "outputId": "d487979d-0046-4fed-ef6d-3821031cc497"
      },
      "execution_count": 33,
      "outputs": [
        {
          "output_type": "stream",
          "name": "stdout",
          "text": [
            "dlroW olleH\n"
          ]
        }
      ]
    },
    {
      "cell_type": "markdown",
      "source": [
        "### 4. Write a program that takes a string as input and checks if it is a palindrome (reads the same forwards and backwards)."
      ],
      "metadata": {
        "id": "3E9mk1bykz2-"
      }
    },
    {
      "cell_type": "code",
      "source": [
        "# The first line to take user input\n",
        "inp_string_4 = str(input())\n",
        "\n",
        "# the casefold () method is used to ensure the string is caseless. the character for capital A will be treated the same as a character of lowercase a.\n",
        "inp_string_4 = inp_string_4.casefold()\n",
        "# reverse the string\n",
        "rev_str = reversed(inp_string_4)\n",
        "\n",
        "# check if the string is equal to its reverse\n",
        "if list(inp_string_4) == list(rev_str):\n",
        "   print(\"The string is a palindrome.\")\n",
        "else:\n",
        "   print(\"The string is not a palindrome.\")\n"
      ],
      "metadata": {
        "colab": {
          "base_uri": "https://localhost:8080/"
        },
        "id": "qE0VBv6uk3PQ",
        "outputId": "1882cb06-f966-4a10-da97-4c91fa1cbc10"
      },
      "execution_count": 38,
      "outputs": [
        {
          "output_type": "stream",
          "name": "stdout",
          "text": [
            "wow\n",
            "The string is a palindrome.\n"
          ]
        }
      ]
    },
    {
      "cell_type": "markdown",
      "source": [
        "### 5. Create a program that takes a string as input and removes all the spaces from it. Print the modified string without spaces."
      ],
      "metadata": {
        "id": "2iS1oTWik3pz"
      }
    },
    {
      "cell_type": "code",
      "source": [
        "inp_string_5 = str(input())\n",
        "\n",
        "print(\"string with spaces is\", inp_string_5)\n",
        "\n",
        "l = len(inp_string_5) # storing the length of the string\n",
        "\n",
        "c = inp_string_5.count(' ') # counting the number of whitespaces\n",
        "\n",
        "inp_string_5 = inp_string_5.replace(' ', '') # removing all the whitespaces\n",
        "\n",
        "inp_string_5 = inp_string_5[:l - c] # resizing the string to l-c\n",
        "\n",
        "print(\"string without spaces is\", inp_string_5)\n"
      ],
      "metadata": {
        "colab": {
          "base_uri": "https://localhost:8080/"
        },
        "id": "x8BQ3hYyk9YG",
        "outputId": "5234c729-9236-43e4-d9a3-1068bbadf4b0"
      },
      "execution_count": 41,
      "outputs": [
        {
          "output_type": "stream",
          "name": "stdout",
          "text": [
            "p w s k i l l s\n",
            "string with spaces is p w s k i l l s\n",
            "string without spaces is pwskills\n"
          ]
        }
      ]
    }
  ]
}